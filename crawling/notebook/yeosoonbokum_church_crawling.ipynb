{
 "cells": [
  {
   "cell_type": "code",
   "execution_count": 13,
   "metadata": {},
   "outputs": [],
   "source": [
    "from selenium import webdriver \n",
    "from selenium.webdriver.common.by import By\n",
    "from selenium.webdriver.support import expected_conditions as EC\n",
    "\n",
    "from selenium.webdriver.support.ui import WebDriverWait\n",
    "import bs4\n",
    "import pandas as pd\n",
    "import re\n",
    "import time\n"
   ]
  },
  {
   "cell_type": "code",
   "execution_count": 2,
   "metadata": {},
   "outputs": [],
   "source": [
    "driver_path = 'C:/Users/jaehkim/Desktop/sermon_analysis/chromedriver.exe'\n",
    "url = 'https://www.fgtv.com/fgtv/f1/01.asp'\n",
    "\n",
    "driver = webdriver.Chrome(driver_path)\n",
    "driver.implicitly_wait(3)\n",
    "\n",
    "driver.get(url)"
   ]
  },
  {
   "cell_type": "markdown",
   "metadata": {},
   "source": [
    "# FNGTV 방송 - 예배 0~9 Loop"
   ]
  },
  {
   "cell_type": "code",
   "execution_count": 8,
   "metadata": {
    "collapsed": true,
    "jupyter": {
     "outputs_hidden": true
    }
   },
   "outputs": [
    {
     "ename": "StaleElementReferenceException",
     "evalue": "Message: stale element reference: element is not attached to the page document\n  (Session info: chrome=84.0.4147.105)\n",
     "output_type": "error",
     "traceback": [
      "\u001b[1;31m---------------------------------------------------------------------------\u001b[0m",
      "\u001b[1;31mStaleElementReferenceException\u001b[0m            Traceback (most recent call last)",
      "\u001b[1;32m<ipython-input-8-72701330aacc>\u001b[0m in \u001b[0;36m<module>\u001b[1;34m\u001b[0m\n\u001b[0;32m      5\u001b[0m \u001b[0mbuttons\u001b[0m \u001b[1;33m=\u001b[0m \u001b[0mleft_menu_titles\u001b[0m\u001b[1;33m.\u001b[0m\u001b[0mfind_elements_by_tag_name\u001b[0m\u001b[1;33m(\u001b[0m\u001b[1;34m'a'\u001b[0m\u001b[1;33m)\u001b[0m\u001b[1;33m\u001b[0m\u001b[1;33m\u001b[0m\u001b[0m\n\u001b[0;32m      6\u001b[0m \u001b[1;32mfor\u001b[0m \u001b[0mbutton\u001b[0m \u001b[1;32min\u001b[0m \u001b[0mbuttons\u001b[0m\u001b[1;33m:\u001b[0m\u001b[1;33m\u001b[0m\u001b[1;33m\u001b[0m\u001b[0m\n\u001b[1;32m----> 7\u001b[1;33m     \u001b[0mbutton\u001b[0m\u001b[1;33m.\u001b[0m\u001b[0mclick\u001b[0m\u001b[1;33m(\u001b[0m\u001b[1;33m)\u001b[0m\u001b[1;33m\u001b[0m\u001b[1;33m\u001b[0m\u001b[0m\n\u001b[0m\u001b[0;32m      8\u001b[0m     \u001b[0mdriver\u001b[0m\u001b[1;33m.\u001b[0m\u001b[0mimplicitly_wait\u001b[0m\u001b[1;33m(\u001b[0m\u001b[1;36m3\u001b[0m\u001b[1;33m)\u001b[0m\u001b[1;33m\u001b[0m\u001b[1;33m\u001b[0m\u001b[0m\n",
      "\u001b[1;32m~\\Anaconda3_64\\lib\\site-packages\\selenium\\webdriver\\remote\\webelement.py\u001b[0m in \u001b[0;36mclick\u001b[1;34m(self)\u001b[0m\n\u001b[0;32m     78\u001b[0m     \u001b[1;32mdef\u001b[0m \u001b[0mclick\u001b[0m\u001b[1;33m(\u001b[0m\u001b[0mself\u001b[0m\u001b[1;33m)\u001b[0m\u001b[1;33m:\u001b[0m\u001b[1;33m\u001b[0m\u001b[1;33m\u001b[0m\u001b[0m\n\u001b[0;32m     79\u001b[0m         \u001b[1;34m\"\"\"Clicks the element.\"\"\"\u001b[0m\u001b[1;33m\u001b[0m\u001b[1;33m\u001b[0m\u001b[0m\n\u001b[1;32m---> 80\u001b[1;33m         \u001b[0mself\u001b[0m\u001b[1;33m.\u001b[0m\u001b[0m_execute\u001b[0m\u001b[1;33m(\u001b[0m\u001b[0mCommand\u001b[0m\u001b[1;33m.\u001b[0m\u001b[0mCLICK_ELEMENT\u001b[0m\u001b[1;33m)\u001b[0m\u001b[1;33m\u001b[0m\u001b[1;33m\u001b[0m\u001b[0m\n\u001b[0m\u001b[0;32m     81\u001b[0m \u001b[1;33m\u001b[0m\u001b[0m\n\u001b[0;32m     82\u001b[0m     \u001b[1;32mdef\u001b[0m \u001b[0msubmit\u001b[0m\u001b[1;33m(\u001b[0m\u001b[0mself\u001b[0m\u001b[1;33m)\u001b[0m\u001b[1;33m:\u001b[0m\u001b[1;33m\u001b[0m\u001b[1;33m\u001b[0m\u001b[0m\n",
      "\u001b[1;32m~\\Anaconda3_64\\lib\\site-packages\\selenium\\webdriver\\remote\\webelement.py\u001b[0m in \u001b[0;36m_execute\u001b[1;34m(self, command, params)\u001b[0m\n\u001b[0;32m    631\u001b[0m             \u001b[0mparams\u001b[0m \u001b[1;33m=\u001b[0m \u001b[1;33m{\u001b[0m\u001b[1;33m}\u001b[0m\u001b[1;33m\u001b[0m\u001b[1;33m\u001b[0m\u001b[0m\n\u001b[0;32m    632\u001b[0m         \u001b[0mparams\u001b[0m\u001b[1;33m[\u001b[0m\u001b[1;34m'id'\u001b[0m\u001b[1;33m]\u001b[0m \u001b[1;33m=\u001b[0m \u001b[0mself\u001b[0m\u001b[1;33m.\u001b[0m\u001b[0m_id\u001b[0m\u001b[1;33m\u001b[0m\u001b[1;33m\u001b[0m\u001b[0m\n\u001b[1;32m--> 633\u001b[1;33m         \u001b[1;32mreturn\u001b[0m \u001b[0mself\u001b[0m\u001b[1;33m.\u001b[0m\u001b[0m_parent\u001b[0m\u001b[1;33m.\u001b[0m\u001b[0mexecute\u001b[0m\u001b[1;33m(\u001b[0m\u001b[0mcommand\u001b[0m\u001b[1;33m,\u001b[0m \u001b[0mparams\u001b[0m\u001b[1;33m)\u001b[0m\u001b[1;33m\u001b[0m\u001b[1;33m\u001b[0m\u001b[0m\n\u001b[0m\u001b[0;32m    634\u001b[0m \u001b[1;33m\u001b[0m\u001b[0m\n\u001b[0;32m    635\u001b[0m     \u001b[1;32mdef\u001b[0m \u001b[0mfind_element\u001b[0m\u001b[1;33m(\u001b[0m\u001b[0mself\u001b[0m\u001b[1;33m,\u001b[0m \u001b[0mby\u001b[0m\u001b[1;33m=\u001b[0m\u001b[0mBy\u001b[0m\u001b[1;33m.\u001b[0m\u001b[0mID\u001b[0m\u001b[1;33m,\u001b[0m \u001b[0mvalue\u001b[0m\u001b[1;33m=\u001b[0m\u001b[1;32mNone\u001b[0m\u001b[1;33m)\u001b[0m\u001b[1;33m:\u001b[0m\u001b[1;33m\u001b[0m\u001b[1;33m\u001b[0m\u001b[0m\n",
      "\u001b[1;32m~\\Anaconda3_64\\lib\\site-packages\\selenium\\webdriver\\remote\\webdriver.py\u001b[0m in \u001b[0;36mexecute\u001b[1;34m(self, driver_command, params)\u001b[0m\n\u001b[0;32m    319\u001b[0m         \u001b[0mresponse\u001b[0m \u001b[1;33m=\u001b[0m \u001b[0mself\u001b[0m\u001b[1;33m.\u001b[0m\u001b[0mcommand_executor\u001b[0m\u001b[1;33m.\u001b[0m\u001b[0mexecute\u001b[0m\u001b[1;33m(\u001b[0m\u001b[0mdriver_command\u001b[0m\u001b[1;33m,\u001b[0m \u001b[0mparams\u001b[0m\u001b[1;33m)\u001b[0m\u001b[1;33m\u001b[0m\u001b[1;33m\u001b[0m\u001b[0m\n\u001b[0;32m    320\u001b[0m         \u001b[1;32mif\u001b[0m \u001b[0mresponse\u001b[0m\u001b[1;33m:\u001b[0m\u001b[1;33m\u001b[0m\u001b[1;33m\u001b[0m\u001b[0m\n\u001b[1;32m--> 321\u001b[1;33m             \u001b[0mself\u001b[0m\u001b[1;33m.\u001b[0m\u001b[0merror_handler\u001b[0m\u001b[1;33m.\u001b[0m\u001b[0mcheck_response\u001b[0m\u001b[1;33m(\u001b[0m\u001b[0mresponse\u001b[0m\u001b[1;33m)\u001b[0m\u001b[1;33m\u001b[0m\u001b[1;33m\u001b[0m\u001b[0m\n\u001b[0m\u001b[0;32m    322\u001b[0m             response['value'] = self._unwrap_value(\n\u001b[0;32m    323\u001b[0m                 response.get('value', None))\n",
      "\u001b[1;32m~\\Anaconda3_64\\lib\\site-packages\\selenium\\webdriver\\remote\\errorhandler.py\u001b[0m in \u001b[0;36mcheck_response\u001b[1;34m(self, response)\u001b[0m\n\u001b[0;32m    240\u001b[0m                 \u001b[0malert_text\u001b[0m \u001b[1;33m=\u001b[0m \u001b[0mvalue\u001b[0m\u001b[1;33m[\u001b[0m\u001b[1;34m'alert'\u001b[0m\u001b[1;33m]\u001b[0m\u001b[1;33m.\u001b[0m\u001b[0mget\u001b[0m\u001b[1;33m(\u001b[0m\u001b[1;34m'text'\u001b[0m\u001b[1;33m)\u001b[0m\u001b[1;33m\u001b[0m\u001b[1;33m\u001b[0m\u001b[0m\n\u001b[0;32m    241\u001b[0m             \u001b[1;32mraise\u001b[0m \u001b[0mexception_class\u001b[0m\u001b[1;33m(\u001b[0m\u001b[0mmessage\u001b[0m\u001b[1;33m,\u001b[0m \u001b[0mscreen\u001b[0m\u001b[1;33m,\u001b[0m \u001b[0mstacktrace\u001b[0m\u001b[1;33m,\u001b[0m \u001b[0malert_text\u001b[0m\u001b[1;33m)\u001b[0m\u001b[1;33m\u001b[0m\u001b[1;33m\u001b[0m\u001b[0m\n\u001b[1;32m--> 242\u001b[1;33m         \u001b[1;32mraise\u001b[0m \u001b[0mexception_class\u001b[0m\u001b[1;33m(\u001b[0m\u001b[0mmessage\u001b[0m\u001b[1;33m,\u001b[0m \u001b[0mscreen\u001b[0m\u001b[1;33m,\u001b[0m \u001b[0mstacktrace\u001b[0m\u001b[1;33m)\u001b[0m\u001b[1;33m\u001b[0m\u001b[1;33m\u001b[0m\u001b[0m\n\u001b[0m\u001b[0;32m    243\u001b[0m \u001b[1;33m\u001b[0m\u001b[0m\n\u001b[0;32m    244\u001b[0m     \u001b[1;32mdef\u001b[0m \u001b[0m_value_or_default\u001b[0m\u001b[1;33m(\u001b[0m\u001b[0mself\u001b[0m\u001b[1;33m,\u001b[0m \u001b[0mobj\u001b[0m\u001b[1;33m,\u001b[0m \u001b[0mkey\u001b[0m\u001b[1;33m,\u001b[0m \u001b[0mdefault\u001b[0m\u001b[1;33m)\u001b[0m\u001b[1;33m:\u001b[0m\u001b[1;33m\u001b[0m\u001b[1;33m\u001b[0m\u001b[0m\n",
      "\u001b[1;31mStaleElementReferenceException\u001b[0m: Message: stale element reference: element is not attached to the page document\n  (Session info: chrome=84.0.4147.105)\n"
     ]
    }
   ],
   "source": [
    "# left_menu_titles : 한 번 돌아갈떄마다 바뀌므로 동시에 실행\n",
    "left_menu_titles = driver.find_element_by_class_name(\"depth2_gap\")\n",
    "\n",
    "worships = left_menu_titles.text.split('\\n') #categories\n",
    "buttons = left_menu_titles.find_elements_by_tag_name('a') \n",
    "for button in buttons:\n",
    "    button.click()\n",
    "    driver.implicitly_wait(3)"
   ]
  },
  {
   "cell_type": "markdown",
   "metadata": {},
   "source": [
    "# 1부~7부 Loop"
   ]
  },
  {
   "cell_type": "code",
   "execution_count": 17,
   "metadata": {},
   "outputs": [
    {
     "name": "stdout",
     "output_type": "stream",
     "text": [
      "1부\n",
      "2부\n",
      "3부\n",
      "4부\n",
      "5부(청년연합예배)\n",
      "6부\n",
      "7부\n"
     ]
    }
   ],
   "source": [
    "mainframe = driver.find_element_by_class_name(\"mainframe\")\n",
    "worship_times = mainframe.find_elements_by_tag_name('li')\n",
    "\n",
    "for worship_time in worship_times:\n",
    "    if re.search('\\d부',worship_time.text):\n",
    "        print(worship_time.text)\n",
    "        #driver.implicitly_wait(3) 시도(1)\n",
    "        #time.sleep(5) #시도(2)\n",
    "        #wait = WebDriverWait(driver, 20) #시도(3)\n",
    "        #element=wait.until(EC.presence_of_element_located((By.ID,worship_time.id)))\n",
    "        #element.click()\n",
    "    "
   ]
  },
  {
   "cell_type": "markdown",
   "metadata": {},
   "source": [
    "# Table"
   ]
  },
  {
   "cell_type": "code",
   "execution_count": 53,
   "metadata": {},
   "outputs": [],
   "source": [
    "tables = driver.find_elements_by_class_name('table_f1')\n",
    "table_columns = tables[0].text.split()"
   ]
  },
  {
   "cell_type": "code",
   "execution_count": 92,
   "metadata": {},
   "outputs": [
    {
     "data": {
      "text/plain": [
       "['날짜', '설교자', '제목', '본문', '동영상', '선택']"
      ]
     },
     "execution_count": 92,
     "metadata": {},
     "output_type": "execute_result"
    }
   ],
   "source": [
    "table_columns "
   ]
  },
  {
   "cell_type": "code",
   "execution_count": 74,
   "metadata": {},
   "outputs": [],
   "source": [
    "row_element = tables[1].find_elements_by_tag_name('td')"
   ]
  },
  {
   "cell_type": "code",
   "execution_count": 110,
   "metadata": {
    "collapsed": true,
    "jupyter": {
     "outputs_hidden": true
    }
   },
   "outputs": [
    {
     "name": "stdout",
     "output_type": "stream",
     "text": [
      "0 2020-08-02\n",
      "1 이장균 목사\n",
      "2 믿음으로 에녹은\n",
      "3 히 11:5\n",
      "4 고화질\n",
      "5 \n",
      "7 2020-07-26\n",
      "8 이장균 목사\n",
      "9 믿음으로 아벨은\n",
      "10 히 11:4\n",
      "11 고화질\n",
      "12 \n",
      "14 2020-07-19\n",
      "15 이영훈 목사\n",
      "16 주님께서 나를 구원하시리로다\n",
      "17 시 55:16~18, 22\n",
      "18 고화질\n",
      "19 \n",
      "21 2020-07-12\n",
      "22 이영훈 목사\n",
      "23 성령충만의 4단계\n",
      "24 겔 47:1~5\n",
      "25 고화질\n",
      "26 \n",
      "28 2020-07-05\n",
      "29 이영훈 목사\n",
      "30 광야길 40년\n",
      "31 출 14:13~14\n",
      "32 고화질\n",
      "33 \n",
      "35 2020-06-28\n",
      "36 이영훈 목사\n",
      "37 주님을 사랑하라\n",
      "38 시 31:23~24\n",
      "39 고화질\n",
      "40 \n",
      "42 2020-06-21\n",
      "43 이영훈 목사\n",
      "44 상한 갈대를 꺾지 아니하며\n",
      "45 마 12:17~21\n",
      "46 고화질\n",
      "47 \n",
      "49 2020-06-14\n",
      "50 이영훈 목사\n",
      "51 날마다 우리 짐을 지시는 주\n",
      "52 시 68:19~21\n",
      "53 고화질\n",
      "54 \n",
      "56 2020-06-07\n",
      "57 이영훈 목사\n",
      "58 믿음이 작은 자여 왜 의심하였느냐?\n",
      "59 마 14:24~32\n",
      "60 고화질\n",
      "61 \n",
      "63 2020-05-31\n",
      "64 이영훈 목사\n",
      "65 성령의 시대\n",
      "66 행 2:17~18\n",
      "67 고화질\n",
      "68 \n"
     ]
    }
   ],
   "source": [
    "row,rows = [],[]\n",
    "for idx,x in enumerate(row_element):\n",
    "    if idx%7 == 6:\n",
    "        rows.append(row)\n",
    "        row = []\n",
    "        continue\n",
    "    print(idx,x.text)\n",
    "    row.append(x.text)\n"
   ]
  },
  {
   "cell_type": "code",
   "execution_count": 112,
   "metadata": {},
   "outputs": [
    {
     "data": {
      "text/html": [
       "<div>\n",
       "<style scoped>\n",
       "    .dataframe tbody tr th:only-of-type {\n",
       "        vertical-align: middle;\n",
       "    }\n",
       "\n",
       "    .dataframe tbody tr th {\n",
       "        vertical-align: top;\n",
       "    }\n",
       "\n",
       "    .dataframe thead th {\n",
       "        text-align: right;\n",
       "    }\n",
       "</style>\n",
       "<table border=\"1\" class=\"dataframe\">\n",
       "  <thead>\n",
       "    <tr style=\"text-align: right;\">\n",
       "      <th></th>\n",
       "      <th>날짜</th>\n",
       "      <th>설교자</th>\n",
       "      <th>제목</th>\n",
       "      <th>본문</th>\n",
       "      <th>동영상</th>\n",
       "      <th>선택</th>\n",
       "    </tr>\n",
       "  </thead>\n",
       "  <tbody>\n",
       "    <tr>\n",
       "      <td>0</td>\n",
       "      <td>2020-08-02</td>\n",
       "      <td>이장균 목사</td>\n",
       "      <td>믿음으로 에녹은</td>\n",
       "      <td>히 11:5</td>\n",
       "      <td>고화질</td>\n",
       "      <td></td>\n",
       "    </tr>\n",
       "    <tr>\n",
       "      <td>1</td>\n",
       "      <td>2020-07-26</td>\n",
       "      <td>이장균 목사</td>\n",
       "      <td>믿음으로 아벨은</td>\n",
       "      <td>히 11:4</td>\n",
       "      <td>고화질</td>\n",
       "      <td></td>\n",
       "    </tr>\n",
       "    <tr>\n",
       "      <td>2</td>\n",
       "      <td>2020-07-19</td>\n",
       "      <td>이영훈 목사</td>\n",
       "      <td>주님께서 나를 구원하시리로다</td>\n",
       "      <td>시 55:16~18, 22</td>\n",
       "      <td>고화질</td>\n",
       "      <td></td>\n",
       "    </tr>\n",
       "    <tr>\n",
       "      <td>3</td>\n",
       "      <td>2020-07-12</td>\n",
       "      <td>이영훈 목사</td>\n",
       "      <td>성령충만의 4단계</td>\n",
       "      <td>겔 47:1~5</td>\n",
       "      <td>고화질</td>\n",
       "      <td></td>\n",
       "    </tr>\n",
       "    <tr>\n",
       "      <td>4</td>\n",
       "      <td>2020-07-05</td>\n",
       "      <td>이영훈 목사</td>\n",
       "      <td>광야길 40년</td>\n",
       "      <td>출 14:13~14</td>\n",
       "      <td>고화질</td>\n",
       "      <td></td>\n",
       "    </tr>\n",
       "    <tr>\n",
       "      <td>5</td>\n",
       "      <td>2020-06-28</td>\n",
       "      <td>이영훈 목사</td>\n",
       "      <td>주님을 사랑하라</td>\n",
       "      <td>시 31:23~24</td>\n",
       "      <td>고화질</td>\n",
       "      <td></td>\n",
       "    </tr>\n",
       "    <tr>\n",
       "      <td>6</td>\n",
       "      <td>2020-06-21</td>\n",
       "      <td>이영훈 목사</td>\n",
       "      <td>상한 갈대를 꺾지 아니하며</td>\n",
       "      <td>마 12:17~21</td>\n",
       "      <td>고화질</td>\n",
       "      <td></td>\n",
       "    </tr>\n",
       "    <tr>\n",
       "      <td>7</td>\n",
       "      <td>2020-06-14</td>\n",
       "      <td>이영훈 목사</td>\n",
       "      <td>날마다 우리 짐을 지시는 주</td>\n",
       "      <td>시 68:19~21</td>\n",
       "      <td>고화질</td>\n",
       "      <td></td>\n",
       "    </tr>\n",
       "    <tr>\n",
       "      <td>8</td>\n",
       "      <td>2020-06-07</td>\n",
       "      <td>이영훈 목사</td>\n",
       "      <td>믿음이 작은 자여 왜 의심하였느냐?</td>\n",
       "      <td>마 14:24~32</td>\n",
       "      <td>고화질</td>\n",
       "      <td></td>\n",
       "    </tr>\n",
       "    <tr>\n",
       "      <td>9</td>\n",
       "      <td>2020-05-31</td>\n",
       "      <td>이영훈 목사</td>\n",
       "      <td>성령의 시대</td>\n",
       "      <td>행 2:17~18</td>\n",
       "      <td>고화질</td>\n",
       "      <td></td>\n",
       "    </tr>\n",
       "  </tbody>\n",
       "</table>\n",
       "</div>"
      ],
      "text/plain": [
       "           날짜     설교자                   제목              본문  동영상 선택\n",
       "0  2020-08-02  이장균 목사             믿음으로 에녹은          히 11:5  고화질   \n",
       "1  2020-07-26  이장균 목사             믿음으로 아벨은          히 11:4  고화질   \n",
       "2  2020-07-19  이영훈 목사      주님께서 나를 구원하시리로다  시 55:16~18, 22  고화질   \n",
       "3  2020-07-12  이영훈 목사            성령충만의 4단계        겔 47:1~5  고화질   \n",
       "4  2020-07-05  이영훈 목사              광야길 40년      출 14:13~14  고화질   \n",
       "5  2020-06-28  이영훈 목사             주님을 사랑하라      시 31:23~24  고화질   \n",
       "6  2020-06-21  이영훈 목사       상한 갈대를 꺾지 아니하며      마 12:17~21  고화질   \n",
       "7  2020-06-14  이영훈 목사      날마다 우리 짐을 지시는 주      시 68:19~21  고화질   \n",
       "8  2020-06-07  이영훈 목사  믿음이 작은 자여 왜 의심하였느냐?      마 14:24~32  고화질   \n",
       "9  2020-05-31  이영훈 목사               성령의 시대       행 2:17~18  고화질   "
      ]
     },
     "execution_count": 112,
     "metadata": {},
     "output_type": "execute_result"
    }
   ],
   "source": [
    "pd.DataFrame(data=rows,columns=table_columns)"
   ]
  },
  {
   "cell_type": "markdown",
   "metadata": {},
   "source": [
    "# 페이지 넘기기"
   ]
  },
  {
   "cell_type": "code",
   "execution_count": null,
   "metadata": {},
   "outputs": [],
   "source": []
  }
 ],
 "metadata": {
  "kernelspec": {
   "display_name": "Python 3",
   "language": "python",
   "name": "python3"
  },
  "language_info": {
   "codemirror_mode": {
    "name": "ipython",
    "version": 3
   },
   "file_extension": ".py",
   "mimetype": "text/x-python",
   "name": "python",
   "nbconvert_exporter": "python",
   "pygments_lexer": "ipython3",
   "version": "3.7.6"
  }
 },
 "nbformat": 4,
 "nbformat_minor": 4
}
