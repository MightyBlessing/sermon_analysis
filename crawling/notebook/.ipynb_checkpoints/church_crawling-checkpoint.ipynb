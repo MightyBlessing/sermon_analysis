{
 "cells": [
  {
   "cell_type": "code",
   "execution_count": 39,
   "metadata": {},
   "outputs": [],
   "source": [
    "from selenium import webdriver \n",
    "# from selenium.webdriver.common.by import By\n",
    "# from selenium.webdriver.support import expected_conditions as EC\n",
    "\n",
    "# from selenium.webdriver.support.ui import WebDriverWait\n",
    "import bs4\n",
    "import pandas as pd\n",
    "import re\n",
    "import time\n",
    "\n",
    "from selenium.webdriver.common.by import By\n",
    "from selenium.webdriver.support.ui import WebDriverWait\n",
    "from selenium.webdriver.support import expected_conditions as EC\n"
   ]
  },
  {
   "cell_type": "code",
   "execution_count": 46,
   "metadata": {},
   "outputs": [
    {
     "name": "stdout",
     "output_type": "stream",
     "text": [
      "64 http://central.or.kr/video/video2/video2-1/\n",
      "47 http://central.or.kr/video/video2/video2-3/\n",
      "68 http://central.or.kr/video/video2/video2-8/\n"
     ]
    }
   ],
   "source": [
    "# driver_path = 'C:/Users/jaehkim/Desktop/sermon_analysis/chromedriver.exe'\n",
    "driver_path = '/Users/hyun-young/workspace/github/chromedriver'\n",
    "urls = ['http://central.or.kr/video/video2/video2-1/', 'http://central.or.kr/video/video2/video2-3/','http://central.or.kr/video/video2/video2-8/']\n",
    "\n",
    "# 'http://central.or.kr/video/video2/video2-9/' : 김장환 목사\n",
    "# ''\n",
    "\n",
    "data = []\n",
    "for url in urls:\n",
    "\n",
    "    driver = webdriver.Chrome(driver_path)\n",
    "    driver.implicitly_wait(3)\n",
    "\n",
    "    driver.get(url)\n",
    "\n",
    "    contents_class_name = 'kboard-list-title.kboard-ell'\n",
    "    item_class_name = 'kboard-list-item'\n",
    "    \n",
    "    c = 0\n",
    "\n",
    "    while True:\n",
    "        c +=1\n",
    "        items = driver.find_elements_by_class_name(item_class_name)\n",
    "    #     print(len(items))\n",
    "\n",
    "        for item in items:\n",
    "            contents = item.find_element_by_class_name(contents_class_name)\n",
    "            data.append(contents.text.split(\"\\n\"))\n",
    "\n",
    "        last_page_btn = driver.find_elements_by_class_name('last-page')\n",
    "        if len(last_page_btn) > 0:  \n",
    "#             print(\"next-page\")\n",
    "            next_page_btn = driver.find_element_by_class_name('next-page')\n",
    "            next_page_btn.click()\n",
    "            driver.implicitly_wait(3)\n",
    "        else:\n",
    "            break\n",
    "    driver.close()\n",
    "    \n",
    "    print(str(c), url)\n",
    "\n",
    "\n"
   ]
  },
  {
   "cell_type": "code",
   "execution_count": 51,
   "metadata": {},
   "outputs": [],
   "source": [
    "column_names = ['제목','본문','날짜']\n",
    "df = pd.DataFrame(data, columns = column_names)\n",
    "df.to_csv(\"중앙.csv\")"
   ]
  },
  {
   "cell_type": "code",
   "execution_count": 50,
   "metadata": {},
   "outputs": [
    {
     "data": {
      "text/html": [
       "<div>\n",
       "<style scoped>\n",
       "    .dataframe tbody tr th:only-of-type {\n",
       "        vertical-align: middle;\n",
       "    }\n",
       "\n",
       "    .dataframe tbody tr th {\n",
       "        vertical-align: top;\n",
       "    }\n",
       "\n",
       "    .dataframe thead th {\n",
       "        text-align: right;\n",
       "    }\n",
       "</style>\n",
       "<table border=\"1\" class=\"dataframe\">\n",
       "  <thead>\n",
       "    <tr style=\"text-align: right;\">\n",
       "      <th></th>\n",
       "      <th>제목</th>\n",
       "      <th>본문</th>\n",
       "      <th>날짜</th>\n",
       "    </tr>\n",
       "  </thead>\n",
       "  <tbody>\n",
       "    <tr>\n",
       "      <th>0</th>\n",
       "      <td>다시 한 걸음</td>\n",
       "      <td>시편 40:1-3</td>\n",
       "      <td>2020-09-13</td>\n",
       "    </tr>\n",
       "    <tr>\n",
       "      <th>1</th>\n",
       "      <td>괴로운 날의 기도</td>\n",
       "      <td>시편 102:1-11</td>\n",
       "      <td>2020-09-06</td>\n",
       "    </tr>\n",
       "    <tr>\n",
       "      <th>2</th>\n",
       "      <td>오직 주님께 소망이</td>\n",
       "      <td>스바냐 3:17-20</td>\n",
       "      <td>2020-08-30</td>\n",
       "    </tr>\n",
       "    <tr>\n",
       "      <th>3</th>\n",
       "      <td>가나안에서도 승리하려면</td>\n",
       "      <td>신명기 8:11-16</td>\n",
       "      <td>2020-08-23</td>\n",
       "    </tr>\n",
       "    <tr>\n",
       "      <th>4</th>\n",
       "      <td>광복을 누리려면</td>\n",
       "      <td>출애굽기 12:26-27</td>\n",
       "      <td>2020-08-16</td>\n",
       "    </tr>\n",
       "  </tbody>\n",
       "</table>\n",
       "</div>"
      ],
      "text/plain": [
       "             제목             본문          날짜\n",
       "0       다시 한 걸음      시편 40:1-3  2020-09-13\n",
       "1     괴로운 날의 기도    시편 102:1-11  2020-09-06\n",
       "2    오직 주님께 소망이    스바냐 3:17-20  2020-08-30\n",
       "3  가나안에서도 승리하려면    신명기 8:11-16  2020-08-23\n",
       "4      광복을 누리려면  출애굽기 12:26-27  2020-08-16"
      ]
     },
     "execution_count": 50,
     "metadata": {},
     "output_type": "execute_result"
    }
   ],
   "source": [
    "df.head(5)"
   ]
  },
  {
   "cell_type": "code",
   "execution_count": 36,
   "metadata": {},
   "outputs": [
    {
     "data": {
      "text/plain": [
       "379"
      ]
     },
     "execution_count": 36,
     "metadata": {},
     "output_type": "execute_result"
    }
   ],
   "source": [
    "len(set(['#'.join(d) for d in data]))"
   ]
  },
  {
   "cell_type": "code",
   "execution_count": 24,
   "metadata": {},
   "outputs": [
    {
     "data": {
      "text/plain": [
       "['다시 한 걸음', '시편 40:1-3', '2020-09-13']"
      ]
     },
     "execution_count": 24,
     "metadata": {},
     "output_type": "execute_result"
    }
   ],
   "source": [
    "contents.text.split(\"\\n\")"
   ]
  },
  {
   "cell_type": "code",
   "execution_count": null,
   "metadata": {},
   "outputs": [],
   "source": [
    "driver.find_element_by_tag_name"
   ]
  },
  {
   "cell_type": "code",
   "execution_count": 56,
   "metadata": {},
   "outputs": [],
   "source": [
    "url =['https://www.samilchurch.com/sermonsong'][0]\n",
    "\n",
    "driver = webdriver.Chrome(driver_path)\n",
    "driver.implicitly_wait(3)\n",
    "\n",
    "driver.get(url)\n",
    "\n",
    "item_class_name = 'bd_lst.bd_tb_lst.bd_tb'\n",
    "table = driver.find_element_by_class_name(item_class_name)\n",
    "items = table.find_elements_by_tag_name('tr')"
   ]
  },
  {
   "cell_type": "code",
   "execution_count": 66,
   "metadata": {},
   "outputs": [],
   "source": []
  },
  {
   "cell_type": "code",
   "execution_count": 67,
   "metadata": {},
   "outputs": [],
   "source": []
  },
  {
   "cell_type": "code",
   "execution_count": 68,
   "metadata": {},
   "outputs": [
    {
     "data": {
      "text/plain": [
       "[\"'네게 보인 양식대로 할지니라'\", '출25:1-9', '2020년09월18일', '송태근', '금요기도회']"
      ]
     },
     "execution_count": 68,
     "metadata": {},
     "output_type": "execute_result"
    }
   ],
   "source": [
    "tmp"
   ]
  },
  {
   "cell_type": "code",
   "execution_count": 83,
   "metadata": {},
   "outputs": [],
   "source": [
    "table = driver.find_element_by_class_name(item_class_name)\n",
    "a = table.find_elements_by_tag_name(\"a\")"
   ]
  },
  {
   "cell_type": "code",
   "execution_count": 88,
   "metadata": {},
   "outputs": [],
   "source": [
    "direction = driver.find_elements_by_class_name(\"direction\")"
   ]
  },
  {
   "cell_type": "code",
   "execution_count": 89,
   "metadata": {},
   "outputs": [
    {
     "data": {
      "text/plain": [
       "2"
      ]
     },
     "execution_count": 89,
     "metadata": {},
     "output_type": "execute_result"
    }
   ],
   "source": [
    "len(direction)"
   ]
  },
  {
   "cell_type": "code",
   "execution_count": 106,
   "metadata": {},
   "outputs": [
    {
     "name": "stdout",
     "output_type": "stream",
     "text": [
      "33 https://www.samilchurch.com/index.php?mid=sermonsong&category=211285\n",
      "28 https://www.samilchurch.com/index.php?mid=sermonsong&category=211287\n",
      "9 https://www.samilchurch.com/index.php?mid=sermonsong&category=211289\n"
     ]
    }
   ],
   "source": [
    "# driver_path = 'C:/Users/jaehkim/Desktop/sermon_analysis/chromedriver.exe'\n",
    "driver_path = '/Users/hyun-young/workspace/github/chromedriver'\n",
    "urls = ['https://www.samilchurch.com/index.php?mid=sermonsong&category=211285','https://www.samilchurch.com/index.php?mid=sermonsong&category=211287','https://www.samilchurch.com/index.php?mid=sermonsong&category=211289']\n",
    "\n",
    "# 송태근 목사 전체\n",
    "\n",
    "data = []\n",
    "for url in urls:\n",
    "\n",
    "    driver = webdriver.Chrome(driver_path)\n",
    "    driver.implicitly_wait(3)\n",
    "\n",
    "    driver.get(url)\n",
    "\n",
    "    contents_class_name = 'kboard-list-title.kboard-ell'\n",
    "    item_class_name = 'bd_lst.bd_tb_lst.bd_tb'\n",
    "    \n",
    "    c = 0\n",
    "\n",
    "    while True:\n",
    "        c +=1\n",
    "        items = driver.find_element_by_class_name(item_class_name).find_elements_by_tag_name('tr')\n",
    "    #     print(len(items))\n",
    "\n",
    "        for item in items[1:]:\n",
    "            txt = item.text.split(\"\\n\")\n",
    "            txt_sp = txt[2].split(\"/\")\n",
    "\n",
    "            tmp = [txt_sp[-1].replace(\"‘\",\"\"), txt_sp[-2], txt_sp[0], \"송태근\", txt[1]]\n",
    "            \n",
    "            data.append(tmp)\n",
    "\n",
    "        direction_btn = driver.find_elements_by_class_name('direction')\n",
    "        if direction_btn[1].tag_name != 'strong':\n",
    "#             print(\"next-page\")\n",
    "            direction_btn[1].click()\n",
    "            driver.implicitly_wait(3)\n",
    "        else:\n",
    "            break\n",
    "    driver.close()\n",
    "    \n",
    "    print(str(c), url)\n",
    "\n",
    "\n"
   ]
  },
  {
   "cell_type": "code",
   "execution_count": 105,
   "metadata": {},
   "outputs": [
    {
     "data": {
      "text/plain": [
       "'sss'"
      ]
     },
     "execution_count": 105,
     "metadata": {},
     "output_type": "execute_result"
    }
   ],
   "source": [
    "'sss‘'.replace(\"‘\",\"\")"
   ]
  },
  {
   "cell_type": "code",
   "execution_count": 108,
   "metadata": {},
   "outputs": [],
   "source": [
    "column_names = ['제목','본문','날짜', \"설교자\", \"예배\"]\n",
    "df = pd.DataFrame(data, columns = column_names)\n",
    "df.to_csv(\"삼일.csv\")"
   ]
  },
  {
   "cell_type": "markdown",
   "metadata": {},
   "source": [
    "## 할렐루야 교회"
   ]
  },
  {
   "cell_type": "code",
   "execution_count": 126,
   "metadata": {},
   "outputs": [
    {
     "data": {
      "text/plain": [
       "['[온라인 주일예배] \"복음의 빛\"', '김승욱 목사', '디도서 2:1-10', '2020-08-23']"
      ]
     },
     "execution_count": 126,
     "metadata": {},
     "output_type": "execute_result"
    }
   ],
   "source": [
    "column_name = ['제목','날짜','설교자','본문','예배']\n",
    "items[4].text.split(\"\\n\")"
   ]
  },
  {
   "cell_type": "code",
   "execution_count": 165,
   "metadata": {},
   "outputs": [
    {
     "name": "stdout",
     "output_type": "stream",
     "text": [
      "250 http://www.hcc.or.kr/worship.do?worshipgroupcode=A02&worshipcode=101\n"
     ]
    }
   ],
   "source": [
    "# driver_path = 'C:/Users/jaehkim/Desktop/sermon_analysis/chromedriver.exe'\n",
    "driver_path = '/Users/hyun-young/workspace/github/chromedriver'\n",
    "urls = ['http://www.hcc.or.kr/worship.do?worshipgroupcode=A02&worshipcode=101']\n",
    "\n",
    "data = []\n",
    "for url in urls:\n",
    "\n",
    "    driver = webdriver.Chrome(driver_path)\n",
    "    driver.implicitly_wait(3)\n",
    "\n",
    "    driver.get(url)\n",
    "\n",
    "#     contents_class_name = 'kboard-list-title.kboard-ell'\n",
    "    item_class_name = 'Vtext.mt_10.mb_10'\n",
    "    \n",
    "    c = 0\n",
    "    last_page = 250\n",
    "    while True:\n",
    "        c +=1\n",
    "        items = driver.find_elements_by_class_name(item_class_name)\n",
    "    #     print(len(items))\n",
    "\n",
    "        for item in items:\n",
    "            txt = item.text.split(\"\\n\")\n",
    "            txt_sp = txt[0].split(\"]\")\n",
    "            if len(txt_sp) == 2:\n",
    "                title = txt_sp[1].strip()\n",
    "                worship_time = txt_sp[0].replace(\"[\",\"\")\n",
    "            else:\n",
    "                worship_time = \"주일예배\"\n",
    "                title = txt[0].strip()\n",
    "                \n",
    "            tmp = [title, worship_time] + txt[1:]\n",
    "            data.append(tmp)\n",
    "\n",
    "#         direction_btn = driver.find_elements_by_class_name('direction')\n",
    "        btn = driver.find_element_by_class_name(\"pages\").find_element_by_class_name('pgNext.next')\n",
    "        if c < last_page:\n",
    "#             print(\"next-page\")\n",
    "#             driver.implicitly_wait(3)\n",
    "            btn.click()\n",
    "            driver.implicitly_wait(3)\n",
    "        else:\n",
    "            break\n",
    "    driver.close()\n",
    "    \n",
    "    print(str(c), url)\n",
    "\n",
    "\n",
    "\n"
   ]
  },
  {
   "cell_type": "code",
   "execution_count": 166,
   "metadata": {},
   "outputs": [
    {
     "data": {
      "text/plain": [
       "1148"
      ]
     },
     "execution_count": 166,
     "metadata": {},
     "output_type": "execute_result"
    }
   ],
   "source": [
    "len(set(['#'.join(t) for t in data]))"
   ]
  },
  {
   "cell_type": "code",
   "execution_count": 141,
   "metadata": {},
   "outputs": [],
   "source": [
    "driver.find_element_by_class_name(\"pages\").find_element_by_class_name('pgNext.next').click()"
   ]
  },
  {
   "cell_type": "code",
   "execution_count": 167,
   "metadata": {},
   "outputs": [
    {
     "data": {
      "text/plain": [
       "['\"복음의 빛\"', '온라인 주일예배', '김승욱 목사', '디도서 2:1-10', '2020-08-23']"
      ]
     },
     "execution_count": 167,
     "metadata": {},
     "output_type": "execute_result"
    }
   ],
   "source": [
    "data[4]"
   ]
  },
  {
   "cell_type": "code",
   "execution_count": 171,
   "metadata": {},
   "outputs": [],
   "source": [
    "column_name = ['제목','예배','설교자','본문','날짜']"
   ]
  },
  {
   "cell_type": "code",
   "execution_count": 172,
   "metadata": {},
   "outputs": [],
   "source": [
    "df = pd.DataFrame(data, columns = column_name).to_csv(\"할렐루야.csv\")fa"
   ]
  },
  {
   "cell_type": "markdown",
   "metadata": {},
   "source": [
    "## 명성교회"
   ]
  },
  {
   "cell_type": "code",
   "execution_count": 39,
   "metadata": {},
   "outputs": [],
   "source": [
    "# driver_path = 'C:/Users/jaehkim/Desktop/sermon_analysis/chromedriver.exe'\n",
    "driver_path = '/Users/hyun-young/workspace/github/chromedriver'\n",
    "end_page = 39\n",
    "urls = ['http://www.msch.or.kr/xe/?mid=iTV01_01&page=']\n",
    "pastor = \"김삼환 목사\"\n",
    "church = \"명성교회\"\n",
    "\n",
    "data = []\n",
    "# end_page = 1\n",
    "for page in range(1, end_page+1):\n",
    "\n",
    "    driver = webdriver.Chrome(driver_path)\n",
    "    driver.implicitly_wait(3)\n",
    "\n",
    "    driver.get(urls[0] + str(page))\n",
    "\n",
    "#     contents_class_name = 'kboard-list-title.kboard-ell'\n",
    "    item_class_name = 'bg1'\n",
    "    \n",
    "    items = driver.find_element_by_class_name(\"bodexList\").find_elements_by_class_name(item_class_name)\n",
    "#     print(len(items))\n",
    "\n",
    "    for item in items:\n",
    "        sp_txt = [i.text for i in item.find_elements_by_tag_name(\"td\")]\n",
    "#         if len(sp_txt) < 4:\n",
    "#             continue\n",
    "        \n",
    "        if ';' in sp_txt[1]:\n",
    "            sp_tmp = sp_txt[1].split(\";\")\n",
    "        else:\n",
    "            sp_tmp = sp_txt[1].split(\"/\")\n",
    "#         tmp = [title, worship_time] + txt[1:]\n",
    "        data.append([sp_tmp[1].strip(), '주일예배', sp_txt[2], sp_txt[3], sp_tmp[0].split()[0].strip(), church])\n",
    "\n",
    "    driver.close()\n",
    "    \n",
    "#     print(str(c), url)\n",
    "\n",
    "\n",
    "\n",
    "\n"
   ]
  },
  {
   "cell_type": "code",
   "execution_count": 40,
   "metadata": {},
   "outputs": [
    {
     "data": {
      "text/plain": [
       "386"
      ]
     },
     "execution_count": 40,
     "metadata": {},
     "output_type": "execute_result"
    }
   ],
   "source": [
    "len(data)"
   ]
  },
  {
   "cell_type": "code",
   "execution_count": 43,
   "metadata": {},
   "outputs": [],
   "source": [
    "column_name = ['제목','예배','설교자','본문','날짜', '교회']\n",
    "df = pd.DataFrame(data, columns = column_name)\n",
    "df.to_csv(\"명성.csv\")"
   ]
  },
  {
   "cell_type": "markdown",
   "metadata": {},
   "source": [
    "## 소망교회"
   ]
  },
  {
   "cell_type": "code",
   "execution_count": 64,
   "metadata": {},
   "outputs": [],
   "source": [
    "# driver_path = 'C:/Users/jaehkim/Desktop/sermon_analysis/chromedriver.exe'\n",
    "driver_path = '/Users/hyun-young/workspace/github/chromedriver'\n",
    "end_page = 22\n",
    "urls = ['http://www.youngnak.net/vod/preachment/sunday/page/']\n",
    "pastor = \"김지철 목사\"\n",
    "church = \"소망교회\"\n",
    "\n",
    "\n",
    "data = []\n",
    "# end_page = 1\n",
    "for page in range(1, end_page+1):\n",
    "\n",
    "    driver = webdriver.Chrome(driver_path)\n",
    "    driver.implicitly_wait(3)\n",
    "\n",
    "    driver.get(urls[0] + str(page))\n",
    "\n",
    "#     contents_class_name = 'kboard-list-title.kboard-ell'\n",
    "    item_class_name = 'txt'\n",
    "    \n",
    "    items = driver.find_elements_by_class_name(item_class_name)\n",
    "#     print(len(items))\n",
    "\n",
    "    for item in items:\n",
    "        sp = item.text.split(\"\\n\")\n",
    "        if len(sp) == 5:\n",
    "            sp_txt = [sp[0] + sp[1]] + sp[2:]\n",
    "        else:\n",
    "            sp_txt = sp\n",
    "\n",
    "        sp_pastor = [i.strip() for i in sp_txt[2].split(\":\")]\n",
    "        \n",
    "        if len(sp_pastor) == 2:\n",
    "            if '목사' in sp_pastor[1]:\n",
    "                pastor = sp_pastor[1]\n",
    "        date = sp_txt[3].split(\":\")[1].strip()\n",
    "\n",
    "        data.append([sp_txt[0].strip(), '주일예배', pastor, sp_txt[1].strip(), date, '소망교회'])\n",
    "\n",
    "    driver.close()\n",
    "    \n",
    "#     print(str(c), url)\n",
    "\n",
    "\n",
    "\n",
    "\n",
    "\n"
   ]
  },
  {
   "cell_type": "code",
   "execution_count": 67,
   "metadata": {},
   "outputs": [
    {
     "data": {
      "text/plain": [
       "[['인내는 성숙함의 지름길', '주일예배', '김지철 목사', '야고보서 1장 2절~4절', '2004-03-28', '소망교회'],\n",
       " ['부정적 자아상을 넘어 사명자로',\n",
       "  '주일예배',\n",
       "  '김지철 목사',\n",
       "  '예레미야 1장 4절~10절',\n",
       "  '2004-03-21',\n",
       "  '소망교회'],\n",
       " ['홀로 있기를 배우라', '주일예배', '김지철 목사', '누가복음 5장 15절~16절', '2004-03-14', '소망교회'],\n",
       " ['순전하되 지혜로운 사람', '주일예배', '김지철 목사', '마태복음 10장 16절', '2004-03-07', '소망교회'],\n",
       " ['나라를 생각하는 신앙', '주일예배', '김지철 목사', '시편 137장 1절~6절', '2004-02-29', '소망교회'],\n",
       " ['용서하는 믿음', '주일예배', '김지철 목사', '창세기 50장 15절~21절', '2004-02-22', '소망교회'],\n",
       " ['최선의 것으로 주시는 하나님', '주일예배', '김지철 목사', '마태복음 7장 7절~11절', '2004-02-15', '소망교회'],\n",
       " ['네가 선 곳은 거룩한 땅이라', '주일예배', '김지철 목사', '출애굽기 3장 1절~5절', '2004-02-08', '소망교회'],\n",
       " ['신앙은 고백이다', '주일예배', '김지철 목사', '마태복음 16장 13절~18절', '2004-02-01', '소망교회'],\n",
       " ['사람을 살리는 언어', '주일예배', '김지철 목사', '야고보서 3장 1절~12절', '2004-01-25', '소망교회']]"
      ]
     },
     "execution_count": 67,
     "metadata": {},
     "output_type": "execute_result"
    }
   ],
   "source": [
    "data[-10:]"
   ]
  },
  {
   "cell_type": "code",
   "execution_count": 68,
   "metadata": {},
   "outputs": [],
   "source": [
    "column_name = ['제목','예배','설교자','본문','날짜', '교회']\n",
    "df = pd.DataFrame(data, columns = column_name)\n",
    "df.to_csv(\"소망.csv\")"
   ]
  },
  {
   "cell_type": "markdown",
   "metadata": {},
   "source": [
    "## 영락교회"
   ]
  },
  {
   "cell_type": "code",
   "execution_count": 86,
   "metadata": {},
   "outputs": [],
   "source": [
    "# driver_path = 'C:/Users/jaehkim/Desktop/sermon_analysis/chromedriver.exe'\n",
    "driver_path = '/Users/hyun-young/workspace/github/chromedriver'\n",
    "end_page = 22\n",
    "urls = ['http://www.youngnak.net/vod/preachment/sunday/page/']\n",
    "\n",
    "church = \"영락교회\"\n",
    "\n",
    "pattern = re.compile(\"\\d+\")\n",
    "\n",
    "\n",
    "data = []\n",
    "# end_page = 1\n",
    "for page in range(1, end_page+1):\n",
    "\n",
    "    driver = webdriver.Chrome(driver_path)\n",
    "    driver.implicitly_wait(3)\n",
    "\n",
    "    driver.get(urls[0] + str(page) + \"/\")\n",
    "\n",
    "#     contents_class_name = 'kboard-list-title.kboard-ell'\n",
    "    item_class_name = 'grid-entry-excerpt.entry-content'\n",
    "    \n",
    "    items = driver.find_elements_by_class_name(item_class_name)\n",
    "#     print(len(items))\n",
    "\n",
    "    for item in items:\n",
    "        txt = item.text.split(\"\\n\")\n",
    "        sp = [i.split(\":\")[1].strip() for i in txt]\n",
    "\n",
    "#         sp_pastor = [i.strip() for i in sp_txt[2].split(\":\")]\n",
    "        \n",
    "#         date = sp_txt[3].split(\":\")[1].strip()\n",
    "        bible = ':'.join(txt[1].split(\":\")[1:]).strip()\n",
    "        date = '-'.join(pattern.findall(sp[3]))\n",
    "\n",
    "        data.append([sp[0], '주일예배', sp[2], bible, date, church])\n",
    "\n",
    "    driver.close()\n",
    "    \n",
    "#     print(str(c), url)\n",
    "\n",
    "\n",
    "\n",
    "\n",
    "\n",
    "\n"
   ]
  },
  {
   "cell_type": "code",
   "execution_count": 85,
   "metadata": {},
   "outputs": [
    {
     "data": {
      "text/plain": [
       "'누가복음 5:1~11'"
      ]
     },
     "execution_count": 85,
     "metadata": {},
     "output_type": "execute_result"
    }
   ],
   "source": []
  },
  {
   "cell_type": "code",
   "execution_count": 88,
   "metadata": {},
   "outputs": [],
   "source": [
    "column_name = ['제목','예배','설교자','본문','날짜', '교회']\n",
    "df = pd.DataFrame(data, columns = column_name)\n",
    "df.to_csv(\"영락.csv\")"
   ]
  },
  {
   "cell_type": "code",
   "execution_count": 89,
   "metadata": {},
   "outputs": [
    {
     "data": {
      "text/plain": [
       "170"
      ]
     },
     "execution_count": 89,
     "metadata": {},
     "output_type": "execute_result"
    }
   ],
   "source": [
    "len(data)"
   ]
  },
  {
   "cell_type": "markdown",
   "metadata": {},
   "source": [
    "## 사랑의 교회"
   ]
  },
  {
   "cell_type": "code",
   "execution_count": null,
   "metadata": {},
   "outputs": [],
   "source": []
  },
  {
   "cell_type": "code",
   "execution_count": 43,
   "metadata": {},
   "outputs": [
    {
     "name": "stdout",
     "output_type": "stream",
     "text": [
      "20\n",
      "20\n",
      "20\n",
      "20\n",
      "20\n",
      "20\n",
      "20\n",
      "20\n",
      "20\n",
      "20\n",
      "20\n",
      "20\n"
     ]
    }
   ],
   "source": [
    "# driver_path = 'C:/Users/jaehkim/Desktop/sermon_analysis/chromedriver.exe'\n",
    "driver_path = '/Users/hyun-young/workspace/github/chromedriver'\n",
    "urls = ['https://www.sarang.org/tv/sermon_all.asp?sflag=sun&db_idx=20374&page=']\n",
    "\n",
    "# 송태근 목사 전체\n",
    "\n",
    "data = []\n",
    "\n",
    "end_page = 12\n",
    "for page in range(1, end_page+1):\n",
    "\n",
    "    driver = webdriver.Chrome(driver_path)\n",
    "    driver.implicitly_wait(3)\n",
    "\n",
    "    driver.get(url+str(page))\n",
    "\n",
    "    table_class_name = 'list_all'\n",
    "    \n",
    "#     item_class_name = 'bd_lst.bd_tb_lst.bd_tb'\n",
    "    \n",
    "    c = 0\n",
    "\n",
    "    items = driver.find_element_by_class_name(table_class_name).find_elements_by_tag_name('ul')\n",
    "    print(len(items))\n",
    "\n",
    "    for item in items:\n",
    "        txt = item.text.split(\"\\n\")\n",
    "        title = txt[0]\n",
    "        date = txt[1].split()[1].replace(\".\",\"-\")\n",
    "        sp_txt = txt[2].split(\"ㆍ\")\n",
    "\n",
    "        pastor = sp_txt[0]\n",
    "        bible = sp_txt[1]\n",
    "\n",
    "        data.append([title,\"주일예배\",pastor,bible,date,'사랑의교회'])\n",
    "\n",
    "    driver.close()\n",
    "    \n",
    "#     print(str(c), url)\n",
    "\n",
    "\n",
    "\n"
   ]
  },
  {
   "cell_type": "code",
   "execution_count": 44,
   "metadata": {},
   "outputs": [],
   "source": [
    "column_name = ['제목','예배','설교자','본문','날짜', '교회']\n",
    "df = pd.DataFrame(data, columns = column_name)\n",
    "df.to_csv(\"사랑의.csv\")"
   ]
  },
  {
   "cell_type": "markdown",
   "metadata": {},
   "source": [
    "## 금란교회"
   ]
  },
  {
   "cell_type": "code",
   "execution_count": 46,
   "metadata": {},
   "outputs": [],
   "source": [
    "pastor = '김정민 목사'"
   ]
  },
  {
   "cell_type": "code",
   "execution_count": 56,
   "metadata": {},
   "outputs": [],
   "source": [
    "\n",
    "    \n",
    "    # driver_path = 'C:/Users/jaehkim/Desktop/sermon_analysis/chromedriver.exe'\n",
    "driver_path = '/Users/hyun-young/workspace/github/chromedriver'\n",
    "urls = ['http://www.kumnan.org/index.php?mid=board_mPeU84&listStyle=list&page=']\n",
    "\n",
    "# 송태근 목사 전체\n",
    "\n",
    "data = []\n",
    "\n",
    "end_page = 23\n",
    "# end_page = 1\n",
    "for page in range(1, end_page+1):\n",
    "\n",
    "    driver = webdriver.Chrome(driver_path)\n",
    "    driver.implicitly_wait(3)\n",
    "\n",
    "    driver.get(urls[0]+str(page))\n",
    "\n",
    "\n",
    "    items = driver.find_element_by_tag_name('tbody').find_elements_by_tag_name('tr')\n",
    "#     print(len(items))\n",
    "\n",
    "    for item in items:\n",
    "        \n",
    "        txt = [i.text for i in item.find_elements_by_tag_name(\"td\")]\n",
    "        data.append([txt[2], \"주일예배\", pastor, txt[-1], txt[-2], \"금란교회\"])\n",
    "\n",
    "    driver.close()\n",
    "    \n",
    "\n",
    "\n",
    "\n",
    "\n"
   ]
  },
  {
   "cell_type": "code",
   "execution_count": 57,
   "metadata": {},
   "outputs": [
    {
     "data": {
      "text/plain": [
       "267"
      ]
     },
     "execution_count": 57,
     "metadata": {},
     "output_type": "execute_result"
    }
   ],
   "source": [
    "len(data)"
   ]
  },
  {
   "cell_type": "code",
   "execution_count": 58,
   "metadata": {},
   "outputs": [],
   "source": [
    "## 부목사\n",
    "    \n",
    "urls = ['http://www.kumnan.org/index.php?mid=board_GfKj91&listStyle=list&page=']\n",
    "\n",
    "\n",
    "end_page = 17\n",
    "# end_page = 1\n",
    "for page in range(1, end_page+1):\n",
    "\n",
    "    driver = webdriver.Chrome(driver_path)\n",
    "    driver.implicitly_wait(3)\n",
    "\n",
    "    driver.get(urls[0]+str(page))\n",
    "\n",
    "\n",
    "    items = driver.find_element_by_tag_name('tbody').find_elements_by_tag_name('tr')\n",
    "#     print(len(items))\n",
    "\n",
    "    for item in items:\n",
    "        \n",
    "        txt = [i.text for i in item.find_elements_by_tag_name(\"td\")]\n",
    "        data.append([txt[1], \"-\", txt[-3], txt[-1], txt[-2], \"금란교회\"])\n",
    "\n",
    "    driver.close()\n",
    "#     print(str(c), url)\n",
    "\n",
    "\n",
    "\n",
    "\n",
    "\n"
   ]
  },
  {
   "cell_type": "code",
   "execution_count": 59,
   "metadata": {},
   "outputs": [
    {
     "data": {
      "text/plain": [
       "471"
      ]
     },
     "execution_count": 59,
     "metadata": {},
     "output_type": "execute_result"
    }
   ],
   "source": [
    "len(data)"
   ]
  },
  {
   "cell_type": "code",
   "execution_count": 60,
   "metadata": {},
   "outputs": [
    {
     "data": {
      "text/plain": [
       "['불을 전해 줍시다', '-', '김기수 목사', '눅24:44-49', '2017-01-04', '금란교회']"
      ]
     },
     "execution_count": 60,
     "metadata": {},
     "output_type": "execute_result"
    }
   ],
   "source": [
    "data[-1]"
   ]
  },
  {
   "cell_type": "code",
   "execution_count": 61,
   "metadata": {},
   "outputs": [
    {
     "data": {
      "text/plain": [
       "['10 천사도 몰랐던 비밀', '주일예배', '김정민 목사', '에베소서 3:1-6', '2020-10-04', '금란교회']"
      ]
     },
     "execution_count": 61,
     "metadata": {},
     "output_type": "execute_result"
    }
   ],
   "source": [
    "data[0]"
   ]
  },
  {
   "cell_type": "code",
   "execution_count": 62,
   "metadata": {},
   "outputs": [],
   "source": [
    "column_name = ['제목','예배','설교자','본문','날짜', '교회']\n",
    "df = pd.DataFrame(data, columns = column_name)\n",
    "df.to_csv(\"금란.csv\")"
   ]
  },
  {
   "cell_type": "code",
   "execution_count": null,
   "metadata": {},
   "outputs": [],
   "source": []
  }
 ],
 "metadata": {
  "kernelspec": {
   "display_name": "Python 3",
   "language": "python",
   "name": "python3"
  },
  "language_info": {
   "codemirror_mode": {
    "name": "ipython",
    "version": 3
   },
   "file_extension": ".py",
   "mimetype": "text/x-python",
   "name": "python",
   "nbconvert_exporter": "python",
   "pygments_lexer": "ipython3",
   "version": "3.6.8"
  }
 },
 "nbformat": 4,
 "nbformat_minor": 2
}
